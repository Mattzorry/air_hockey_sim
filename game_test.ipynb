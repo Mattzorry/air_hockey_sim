{
 "cells": [
  {
   "cell_type": "code",
   "execution_count": 1,
   "metadata": {},
   "outputs": [],
   "source": [
    "import pandas as pd\n",
    "from libs.players import *\n",
    "from libs.games import *"
   ]
  },
  {
   "cell_type": "code",
   "execution_count": 2,
   "metadata": {},
   "outputs": [],
   "source": [
    "players = [\n",
    "    Player('Alice', 50, 50, 50, 50, 50, 50),\n",
    "    Player('Bob', 50, 50, 50, 50, 50, 50),\n",
    "]\n",
    "\n",
    "\n"
   ]
  },
  {
   "cell_type": "markdown",
   "metadata": {},
   "source": [
    "# shot modeling"
   ]
  },
  {
   "cell_type": "markdown",
   "metadata": {},
   "source": [
    "# league modeling"
   ]
  },
  {
   "cell_type": "code",
   "execution_count": 3,
   "metadata": {},
   "outputs": [],
   "source": [
    "from libs.players import create_random_players\n",
    "from libs.games import league"
   ]
  },
  {
   "cell_type": "code",
   "execution_count": 18,
   "metadata": {},
   "outputs": [],
   "source": [
    "players = create_random_players(2)"
   ]
  },
  {
   "cell_type": "code",
   "execution_count": 12,
   "metadata": {},
   "outputs": [],
   "source": [
    "players = [\n",
    "    Player('Alice', 10, 10, 10, 10, 10, 10),\n",
    "    Player('Bob', 100, 100, 100, 100, 100, 100),\n",
    "]\n"
   ]
  },
  {
   "cell_type": "code",
   "execution_count": 19,
   "metadata": {},
   "outputs": [
    {
     "data": {
      "text/plain": [
       "winner\n",
       "Player_2    6001\n",
       "Player_1    3999\n",
       "Name: count, dtype: int64"
      ]
     },
     "execution_count": 19,
     "metadata": {},
     "output_type": "execute_result"
    }
   ],
   "source": [
    "game_set = league(players, 10000)\n",
    "res = game_set.simulate()\n",
    "res['winner'].value_counts()\n"
   ]
  },
  {
   "cell_type": "code",
   "execution_count": 20,
   "metadata": {},
   "outputs": [
    {
     "name": "stdout",
     "output_type": "stream",
     "text": [
      "Name           : Player_1\n",
      "Shot Speed     : 49.42\n",
      "Puck Control   : 45.83\n",
      "Attacks        : 47.35\n",
      "Deceptions     : 49.11\n",
      "Reflexes       : 52.49\n",
      "Blocking       : 63.60\n",
      "Total Skill    : 307.79\n"
     ]
    }
   ],
   "source": [
    "players[0].show_skills()"
   ]
  },
  {
   "cell_type": "code",
   "execution_count": 21,
   "metadata": {},
   "outputs": [
    {
     "name": "stdout",
     "output_type": "stream",
     "text": [
      "Name           : Player_2\n",
      "Shot Speed     : 48.24\n",
      "Puck Control   : 60.20\n",
      "Attacks        : 55.18\n",
      "Deceptions     : 51.13\n",
      "Reflexes       : 53.30\n",
      "Blocking       : 60.81\n",
      "Total Skill    : 328.87\n"
     ]
    }
   ],
   "source": [
    "players[1].show_skills()"
   ]
  },
  {
   "cell_type": "code",
   "execution_count": 22,
   "metadata": {},
   "outputs": [
    {
     "data": {
      "text/plain": [
       "{'shots': 303597,\n",
       " 'on_targets': 149054,\n",
       " 'deceptions': 74154,\n",
       " 'read_blocks': 45311,\n",
       " 'speedy': 53543,\n",
       " 'catches': 125273,\n",
       " 'goals': 53543}"
      ]
     },
     "execution_count": 22,
     "metadata": {},
     "output_type": "execute_result"
    }
   ],
   "source": [
    "players[0].stats"
   ]
  },
  {
   "cell_type": "code",
   "execution_count": 23,
   "metadata": {},
   "outputs": [
    {
     "data": {
      "text/plain": [
       "{'shots': 324078,\n",
       " 'on_targets': 167371,\n",
       " 'deceptions': 84381,\n",
       " 'read_blocks': 40232,\n",
       " 'speedy': 60326,\n",
       " 'catches': 131125,\n",
       " 'goals': 60326}"
      ]
     },
     "execution_count": 23,
     "metadata": {},
     "output_type": "execute_result"
    }
   ],
   "source": [
    "players[1].stats"
   ]
  },
  {
   "cell_type": "code",
   "execution_count": null,
   "metadata": {},
   "outputs": [],
   "source": []
  },
  {
   "cell_type": "code",
   "execution_count": 11,
   "metadata": {},
   "outputs": [
    {
     "data": {
      "text/html": [
       "<div>\n",
       "<style scoped>\n",
       "    .dataframe tbody tr th:only-of-type {\n",
       "        vertical-align: middle;\n",
       "    }\n",
       "\n",
       "    .dataframe tbody tr th {\n",
       "        vertical-align: top;\n",
       "    }\n",
       "\n",
       "    .dataframe thead th {\n",
       "        text-align: right;\n",
       "    }\n",
       "</style>\n",
       "<table border=\"1\" class=\"dataframe\">\n",
       "  <thead>\n",
       "    <tr style=\"text-align: right;\">\n",
       "      <th></th>\n",
       "      <th>Player1</th>\n",
       "      <th>Player1_Score</th>\n",
       "      <th>Player2</th>\n",
       "      <th>Player2_Score</th>\n",
       "      <th>winner</th>\n",
       "    </tr>\n",
       "  </thead>\n",
       "  <tbody>\n",
       "    <tr>\n",
       "      <th>0</th>\n",
       "      <td>Player_2</td>\n",
       "      <td>7</td>\n",
       "      <td>Player_1</td>\n",
       "      <td>5</td>\n",
       "      <td>Player_2</td>\n",
       "    </tr>\n",
       "    <tr>\n",
       "      <th>1</th>\n",
       "      <td>Player_2</td>\n",
       "      <td>7</td>\n",
       "      <td>Player_1</td>\n",
       "      <td>4</td>\n",
       "      <td>Player_2</td>\n",
       "    </tr>\n",
       "    <tr>\n",
       "      <th>2</th>\n",
       "      <td>Player_1</td>\n",
       "      <td>5</td>\n",
       "      <td>Player_2</td>\n",
       "      <td>7</td>\n",
       "      <td>Player_2</td>\n",
       "    </tr>\n",
       "    <tr>\n",
       "      <th>3</th>\n",
       "      <td>Player_1</td>\n",
       "      <td>6</td>\n",
       "      <td>Player_2</td>\n",
       "      <td>7</td>\n",
       "      <td>Player_2</td>\n",
       "    </tr>\n",
       "    <tr>\n",
       "      <th>4</th>\n",
       "      <td>Player_1</td>\n",
       "      <td>1</td>\n",
       "      <td>Player_2</td>\n",
       "      <td>7</td>\n",
       "      <td>Player_2</td>\n",
       "    </tr>\n",
       "    <tr>\n",
       "      <th>...</th>\n",
       "      <td>...</td>\n",
       "      <td>...</td>\n",
       "      <td>...</td>\n",
       "      <td>...</td>\n",
       "      <td>...</td>\n",
       "    </tr>\n",
       "    <tr>\n",
       "      <th>9995</th>\n",
       "      <td>Player_1</td>\n",
       "      <td>7</td>\n",
       "      <td>Player_2</td>\n",
       "      <td>5</td>\n",
       "      <td>Player_1</td>\n",
       "    </tr>\n",
       "    <tr>\n",
       "      <th>9996</th>\n",
       "      <td>Player_1</td>\n",
       "      <td>7</td>\n",
       "      <td>Player_2</td>\n",
       "      <td>4</td>\n",
       "      <td>Player_1</td>\n",
       "    </tr>\n",
       "    <tr>\n",
       "      <th>9997</th>\n",
       "      <td>Player_1</td>\n",
       "      <td>3</td>\n",
       "      <td>Player_2</td>\n",
       "      <td>7</td>\n",
       "      <td>Player_2</td>\n",
       "    </tr>\n",
       "    <tr>\n",
       "      <th>9998</th>\n",
       "      <td>Player_2</td>\n",
       "      <td>3</td>\n",
       "      <td>Player_1</td>\n",
       "      <td>7</td>\n",
       "      <td>Player_1</td>\n",
       "    </tr>\n",
       "    <tr>\n",
       "      <th>9999</th>\n",
       "      <td>Player_2</td>\n",
       "      <td>7</td>\n",
       "      <td>Player_1</td>\n",
       "      <td>4</td>\n",
       "      <td>Player_2</td>\n",
       "    </tr>\n",
       "  </tbody>\n",
       "</table>\n",
       "<p>10000 rows × 5 columns</p>\n",
       "</div>"
      ],
      "text/plain": [
       "       Player1  Player1_Score   Player2  Player2_Score    winner\n",
       "0     Player_2              7  Player_1              5  Player_2\n",
       "1     Player_2              7  Player_1              4  Player_2\n",
       "2     Player_1              5  Player_2              7  Player_2\n",
       "3     Player_1              6  Player_2              7  Player_2\n",
       "4     Player_1              1  Player_2              7  Player_2\n",
       "...        ...            ...       ...            ...       ...\n",
       "9995  Player_1              7  Player_2              5  Player_1\n",
       "9996  Player_1              7  Player_2              4  Player_1\n",
       "9997  Player_1              3  Player_2              7  Player_2\n",
       "9998  Player_2              3  Player_1              7  Player_1\n",
       "9999  Player_2              7  Player_1              4  Player_2\n",
       "\n",
       "[10000 rows x 5 columns]"
      ]
     },
     "execution_count": 11,
     "metadata": {},
     "output_type": "execute_result"
    }
   ],
   "source": [
    "res"
   ]
  },
  {
   "cell_type": "code",
   "execution_count": null,
   "metadata": {},
   "outputs": [],
   "source": []
  }
 ],
 "metadata": {
  "kernelspec": {
   "display_name": "esquire",
   "language": "python",
   "name": "python3"
  },
  "language_info": {
   "codemirror_mode": {
    "name": "ipython",
    "version": 3
   },
   "file_extension": ".py",
   "mimetype": "text/x-python",
   "name": "python",
   "nbconvert_exporter": "python",
   "pygments_lexer": "ipython3",
   "version": "3.11.9"
  }
 },
 "nbformat": 4,
 "nbformat_minor": 2
}
